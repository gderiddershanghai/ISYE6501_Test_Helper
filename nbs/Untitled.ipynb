{
 "cells": [
  {
   "cell_type": "code",
   "execution_count": 2,
   "id": "43365ff8",
   "metadata": {},
   "outputs": [],
   "source": [
    "import os"
   ]
  },
  {
   "cell_type": "code",
   "execution_count": 3,
   "id": "ad2e0b56",
   "metadata": {},
   "outputs": [
    {
     "name": "stdout",
     "output_type": "stream",
     "text": [
      "Empty text files created successfully.\n"
     ]
    }
   ],
   "source": [
    "\n",
    "\n",
    "# Define the folder where you want to create the files\n",
    "folder_path = \"/home/ginger/code/gderiddershanghai/ISYE6501_Test_Helper/data\"\n",
    "\n",
    "# Create the folder if it doesn't exist\n",
    "if not os.path.exists(folder_path):\n",
    "    os.makedirs(folder_path)\n",
    "\n",
    "# Create empty text files numbered from 1 to 16\n",
    "for i in range(1, 17):\n",
    "    file_name = f\"Module_{i}.txt\"\n",
    "    file_path = os.path.join(folder_path, file_name)\n",
    "    \n",
    "    # Create an empty text file\n",
    "    with open(file_path, \"w\") as file:\n",
    "        pass  # This creates an empty file\n",
    "\n",
    "print(\"Empty text files created successfully.\")\n"
   ]
  },
  {
   "cell_type": "code",
   "execution_count": 23,
   "id": "a139cbb6",
   "metadata": {},
   "outputs": [],
   "source": [
    "import numpy as np\n",
    "import random"
   ]
  },
  {
   "cell_type": "code",
   "execution_count": 26,
   "id": "fe77a7ec",
   "metadata": {},
   "outputs": [
    {
     "ename": "ModuleNotFoundError",
     "evalue": "No module named 'questions'",
     "output_type": "error",
     "traceback": [
      "\u001b[0;31m---------------------------------------------------------------------------\u001b[0m",
      "\u001b[0;31mModuleNotFoundError\u001b[0m                       Traceback (most recent call last)",
      "Cell \u001b[0;32mIn [26], line 1\u001b[0m\n\u001b[0;32m----> 1\u001b[0m \u001b[38;5;28;01mfrom\u001b[39;00m \u001b[38;5;21;01mquestions\u001b[39;00m\u001b[38;5;21;01m.\u001b[39;00m\u001b[38;5;21;01mgeneral_questions_m1\u001b[39;00m \u001b[38;5;28;01mimport\u001b[39;00m MIDTERM_1_QUESTIONS\n\u001b[1;32m      2\u001b[0m \u001b[38;5;28;01mfrom\u001b[39;00m \u001b[38;5;21;01mquestions\u001b[39;00m\u001b[38;5;21;01m.\u001b[39;00m\u001b[38;5;21;01mgeneral_questions_m2\u001b[39;00m \u001b[38;5;28;01mimport\u001b[39;00m MIDTERM_2_QUESTIONS\n\u001b[1;32m      3\u001b[0m \u001b[38;5;28;01mfrom\u001b[39;00m \u001b[38;5;21;01mquestions\u001b[39;00m\u001b[38;5;21;01m.\u001b[39;00m\u001b[38;5;21;01mknowledge_check_m1\u001b[39;00m \u001b[38;5;28;01mimport\u001b[39;00m KNOWLEDGE_1_QUESTIONS\n",
      "\u001b[0;31mModuleNotFoundError\u001b[0m: No module named 'questions'"
     ]
    }
   ],
   "source": [
    "from questions.general_questions_m1 import MIDTERM_1_QUESTIONS\n",
    "from questions.general_questions_m2 import MIDTERM_2_QUESTIONS\n",
    "from questions.knowledge_check_m1 import KNOWLEDGE_1_QUESTIONS\n",
    "from questions.knowledge_check_m2 import KNOWLEDGE_2_QUESTIONS"
   ]
  },
  {
   "cell_type": "code",
   "execution_count": 22,
   "id": "3057cdea",
   "metadata": {},
   "outputs": [
    {
     "data": {
      "text/plain": [
       "10"
      ]
     },
     "execution_count": 22,
     "metadata": {},
     "output_type": "execute_result"
    }
   ],
   "source": [
    "np.random.randint(0,15)"
   ]
  },
  {
   "cell_type": "code",
   "execution_count": 24,
   "id": "9cf09db1",
   "metadata": {},
   "outputs": [],
   "source": [
    "x = 9\n",
    "y=102"
   ]
  },
  {
   "cell_type": "code",
   "execution_count": 25,
   "id": "6d18aa4d",
   "metadata": {},
   "outputs": [
    {
     "data": {
      "text/plain": [
       "102"
      ]
     },
     "execution_count": 25,
     "metadata": {},
     "output_type": "execute_result"
    }
   ],
   "source": [
    "random.choice([x,y])"
   ]
  },
  {
   "cell_type": "code",
   "execution_count": null,
   "id": "d626e953",
   "metadata": {},
   "outputs": [],
   "source": []
  }
 ],
 "metadata": {
  "kernelspec": {
   "display_name": "Python 3 (ipykernel)",
   "language": "python",
   "name": "python3"
  },
  "language_info": {
   "codemirror_mode": {
    "name": "ipython",
    "version": 3
   },
   "file_extension": ".py",
   "mimetype": "text/x-python",
   "name": "python",
   "nbconvert_exporter": "python",
   "pygments_lexer": "ipython3",
   "version": "3.10.6"
  },
  "toc": {
   "base_numbering": 1,
   "nav_menu": {},
   "number_sections": true,
   "sideBar": true,
   "skip_h1_title": false,
   "title_cell": "Table of Contents",
   "title_sidebar": "Contents",
   "toc_cell": false,
   "toc_position": {},
   "toc_section_display": true,
   "toc_window_display": false
  }
 },
 "nbformat": 4,
 "nbformat_minor": 5
}
