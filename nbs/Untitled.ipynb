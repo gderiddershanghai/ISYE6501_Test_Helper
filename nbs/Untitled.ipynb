{
 "cells": [
  {
   "cell_type": "code",
   "execution_count": 2,
   "id": "43365ff8",
   "metadata": {},
   "outputs": [],
   "source": [
    "import os"
   ]
  },
  {
   "cell_type": "code",
   "execution_count": 3,
   "id": "ad2e0b56",
   "metadata": {},
   "outputs": [
    {
     "name": "stdout",
     "output_type": "stream",
     "text": [
      "Empty text files created successfully.\n"
     ]
    }
   ],
   "source": [
    "\n",
    "\n",
    "# Define the folder where you want to create the files\n",
    "folder_path = \"/home/ginger/code/gderiddershanghai/ISYE6501_Test_Helper/data\"\n",
    "\n",
    "# Create the folder if it doesn't exist\n",
    "if not os.path.exists(folder_path):\n",
    "    os.makedirs(folder_path)\n",
    "\n",
    "# Create empty text files numbered from 1 to 16\n",
    "for i in range(1, 17):\n",
    "    file_name = f\"Module_{i}.txt\"\n",
    "    file_path = os.path.join(folder_path, file_name)\n",
    "    \n",
    "    # Create an empty text file\n",
    "    with open(file_path, \"w\") as file:\n",
    "        pass  # This creates an empty file\n",
    "\n",
    "print(\"Empty text files created successfully.\")\n"
   ]
  }
 ],
 "metadata": {
  "kernelspec": {
   "display_name": "Python 3 (ipykernel)",
   "language": "python",
   "name": "python3"
  },
  "language_info": {
   "codemirror_mode": {
    "name": "ipython",
    "version": 3
   },
   "file_extension": ".py",
   "mimetype": "text/x-python",
   "name": "python",
   "nbconvert_exporter": "python",
   "pygments_lexer": "ipython3",
   "version": "3.10.6"
  },
  "toc": {
   "base_numbering": 1,
   "nav_menu": {},
   "number_sections": true,
   "sideBar": true,
   "skip_h1_title": false,
   "title_cell": "Table of Contents",
   "title_sidebar": "Contents",
   "toc_cell": false,
   "toc_position": {},
   "toc_section_display": true,
   "toc_window_display": false
  }
 },
 "nbformat": 4,
 "nbformat_minor": 5
}
